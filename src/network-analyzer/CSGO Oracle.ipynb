{
 "cells": [
  {
   "cell_type": "markdown",
   "metadata": {},
   "source": [
    "# CSGO Oracle\n",
    "## Lucas Vidigal e Tiago Trotta"
   ]
  },
  {
   "cell_type": "markdown",
   "metadata": {},
   "source": [
    "### 1. Imports das dependências"
   ]
  },
  {
   "cell_type": "code",
   "execution_count": 1,
   "metadata": {},
   "outputs": [],
   "source": [
    "from network import Network\n",
    "import p_calc\n",
    "import io_op"
   ]
  },
  {
   "cell_type": "markdown",
   "metadata": {},
   "source": [
    "### 2. Definição da rede"
   ]
  },
  {
   "cell_type": "code",
   "execution_count": 2,
   "metadata": {},
   "outputs": [],
   "source": [
    "network_file = \"BLAST-Premier-Fall-2020-30\""
   ]
  },
  {
   "cell_type": "markdown",
   "metadata": {},
   "source": [
    "### 3. Carregamento da rede\n",
    "#### 3.1. Carregamento a partir de arquivo gt ou construção a partir de json"
   ]
  },
  {
   "cell_type": "code",
   "execution_count": 7,
   "metadata": {},
   "outputs": [],
   "source": [
    "# Carregamento de uma rede já construida, salva em um arquivo no formato gt\n",
    "net = Network(file_name=network_file + \".gt\")"
   ]
  },
  {
   "cell_type": "code",
   "execution_count": 4,
   "metadata": {},
   "outputs": [],
   "source": [
    "# Construção de uma nova rede a partir de um arquivo json\n",
    "nodes_info, links_info = io_op.read_json(str(network_file + \".json\"))\n",
    "net = Network(nodes_info=nodes_info, links_info=links_info)"
   ]
  },
  {
   "cell_type": "markdown",
   "metadata": {},
   "source": [
    "#### 3.2. *Opcional*: Salvamento da rede em um arquivo no formato gt"
   ]
  },
  {
   "cell_type": "code",
   "execution_count": 6,
   "metadata": {},
   "outputs": [
    {
     "data": {
      "text/plain": [
       "True"
      ]
     },
     "execution_count": 6,
     "metadata": {},
     "output_type": "execute_result"
    }
   ],
   "source": [
    "net.save_network(network_file + \".gt\")"
   ]
  },
  {
   "cell_type": "markdown",
   "metadata": {},
   "source": [
    "#### 3.3. *Opcional*: Renderização de uma representação gráfica da rede em pdf"
   ]
  },
  {
   "cell_type": "code",
   "execution_count": 8,
   "metadata": {},
   "outputs": [],
   "source": [
    "net.draw(network_file + \".pdf\")"
   ]
  },
  {
   "cell_type": "markdown",
   "metadata": {},
   "source": [
    "### 4. Medidas de centralidade"
   ]
  },
  {
   "cell_type": "markdown",
   "metadata": {},
   "source": [
    "### 5. Cálculos probabilísticos"
   ]
  },
  {
   "cell_type": "markdown",
   "metadata": {},
   "source": [
    "#### 5.1. Cálculo dos top-n times com a maior probabilidade de ganhar o campeonato"
   ]
  },
  {
   "cell_type": "code",
   "execution_count": 9,
   "metadata": {},
   "outputs": [],
   "source": [
    "team_number = 5"
   ]
  },
  {
   "cell_type": "code",
   "execution_count": 10,
   "metadata": {},
   "outputs": [
    {
     "name": "stdout",
     "output_type": "stream",
     "text": [
      "Times com mais chances de ganhar:\n",
      "\tFuria - PgR: 0.022192646963674914, Prob.: 2.2192646963675107\n",
      "\tMad Lions - PgR: 0.0148385323760759, Prob.: 1.4838532376076026\n",
      "\tGambit Youngsters - PgR: 0.0018940372542548402, Prob.: 0.18940372542548564\n",
      "\tx6tence - PgR: 0.0011464282891875735, Prob.: 0.11464282891875832\n",
      "\tsAw - PgR: 0.0011464282891875735, Prob.: 0.11464282891875832\n"
     ]
    }
   ],
   "source": [
    "print(\"Times com mais chances de ganhar:\")\n",
    "print(\"\\n\".join([\"\\t\" + n + \" - PgR: \" + str(v[\"Page Rank\"]) +\n",
    "                \", Prob.: \" + str(v[\"Probabilidade\"])\n",
    "                 for n, v in p_calc.get_top_rank(net, team_number)]))"
   ]
  },
  {
   "cell_type": "markdown",
   "metadata": {},
   "source": [
    "#### 5.2. Probabilidade de vitória de dois times em um confronto específico"
   ]
  },
  {
   "cell_type": "code",
   "execution_count": 11,
   "metadata": {},
   "outputs": [],
   "source": [
    "team1 = \"MIBR\"\n",
    "team2 = \"Complexity\""
   ]
  },
  {
   "cell_type": "code",
   "execution_count": 12,
   "metadata": {},
   "outputs": [
    {
     "name": "stdout",
     "output_type": "stream",
     "text": [
      "\n",
      "Probabilidades de vitória em um confronto entre MIBR e Complexity\n",
      "\tMIBR: 53.18%\n",
      "\tComplexity: 46.82%\n"
     ]
    }
   ],
   "source": [
    "print(\"\\nProbabilidades de vitória em um confronto entre\", team1, \"e\", team2)\n",
    "print(\"\\n\".join([\"\\t\" + n + \": \" + \"{:.2f}\".format(p) + \"%\"\n",
    "                for n, p in p_calc.get_prob_match(team1, team2, net).items()]))"
   ]
  }
 ],
 "metadata": {
  "kernelspec": {
   "display_name": "Python 3",
   "language": "python",
   "name": "python3"
  },
  "language_info": {
   "codemirror_mode": {
    "name": "ipython",
    "version": 3
   },
   "file_extension": ".py",
   "mimetype": "text/x-python",
   "name": "python",
   "nbconvert_exporter": "python",
   "pygments_lexer": "ipython3",
   "version": "3.8.5"
  }
 },
 "nbformat": 4,
 "nbformat_minor": 4
}
